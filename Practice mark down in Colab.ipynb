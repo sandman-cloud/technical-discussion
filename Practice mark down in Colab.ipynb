{
  "nbformat": 4,
  "nbformat_minor": 0,
  "metadata": {
    "colab": {
      "provenance": [],
      "authorship_tag": "ABX9TyOdZxaL4sYcl0dzu4xmiCGf",
      "include_colab_link": true
    },
    "kernelspec": {
      "name": "python3",
      "display_name": "Python 3"
    },
    "language_info": {
      "name": "python"
    }
  },
  "cells": [
    {
      "cell_type": "markdown",
      "metadata": {
        "id": "view-in-github",
        "colab_type": "text"
      },
      "source": [
        "<a href=\"https://colab.research.google.com/github/sandman-cloud/technical-discussion/blob/main/Practice%20mark%20down%20in%20Colab.ipynb\" target=\"_parent\"><img src=\"https://colab.research.google.com/assets/colab-badge.svg\" alt=\"Open In Colab\"/></a>"
      ]
    },
    {
      "cell_type": "markdown",
      "source": [
        "## Sample Code"
      ],
      "metadata": {
        "id": "ob_wn9Vhe1S_"
      }
    },
    {
      "cell_type": "code",
      "execution_count": 1,
      "metadata": {
        "colab": {
          "base_uri": "https://localhost:8080/",
          "height": 35
        },
        "id": "PmQxM3hFd4ug",
        "outputId": "38818f74-22f7-489a-8888-dbef0fbe4b5c"
      },
      "outputs": [
        {
          "output_type": "execute_result",
          "data": {
            "text/plain": [
              "'Hi'"
            ],
            "application/vnd.google.colaboratory.intrinsic+json": {
              "type": "string"
            }
          },
          "metadata": {},
          "execution_count": 1
        }
      ],
      "source": [
        "\n",
        "\n",
        "def Hello():\n",
        "  return \"Hi\"\n",
        "Hello()\n"
      ]
    },
    {
      "cell_type": "markdown",
      "source": [
        "# Practice mark down in Colab\n",
        "\n",
        "\n",
        "\n",
        "*   Create a code cell and print a Python Hello World statement: print(\"hello world\")\n",
        "*   Create a Markdown Cell and add a Title using # and then a statement using plain text.\n",
        "\n",
        "*   Finally, download this notebook as a .ipynb file and check into a Github Project\n",
        "\n",
        "\n",
        "\n",
        "\n",
        "\n",
        "\n",
        "\n"
      ],
      "metadata": {
        "id": "NqeTvxHKQjOo"
      }
    }
  ]
}