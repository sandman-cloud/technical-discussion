{
  "nbformat": 4,
  "nbformat_minor": 0,
  "metadata": {
    "colab": {
      "provenance": [],
      "authorship_tag": "ABX9TyO3MLPjOo3D32gmzagrekG8",
      "include_colab_link": true
    },
    "kernelspec": {
      "name": "python3",
      "display_name": "Python 3"
    },
    "language_info": {
      "name": "python"
    }
  },
  "cells": [
    {
      "cell_type": "markdown",
      "metadata": {
        "id": "view-in-github",
        "colab_type": "text"
      },
      "source": [
        "<a href=\"https://colab.research.google.com/github/sandman-cloud/technical-discussion/blob/main/Practice%20mark%20down%20in%20Colab.ipynb\" target=\"_parent\"><img src=\"https://colab.research.google.com/assets/colab-badge.svg\" alt=\"Open In Colab\"/></a>"
      ]
    },
    {
      "cell_type": "markdown",
      "source": [
        "## Sample Code"
      ],
      "metadata": {
        "id": "ob_wn9Vhe1S_"
      }
    },
    {
      "cell_type": "markdown",
      "source": [
        "# Practice mark down in Colab\n",
        "\n",
        "\n",
        "\n",
        "*   Create a code cell and print a Python Hello World statement: print(\"hello world\")\n",
        "*   Create a Markdown Cell and add a Title using # and then a statement using plain text.\n",
        "\n",
        "*   Finally, download this notebook as a .ipynb file and check into a Github Project\n",
        "\n",
        "\n",
        "\n",
        "\n",
        "\n",
        "\n",
        "\n"
      ],
      "metadata": {
        "id": "NqeTvxHKQjOo"
      }
    }
  ]
}