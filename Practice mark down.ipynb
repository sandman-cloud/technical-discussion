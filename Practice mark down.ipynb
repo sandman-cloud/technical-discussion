{
 "cells": [
  {
   "cell_type": "markdown",
   "metadata": {},
   "source": [
    "## Practice mark down\n",
    "\n",
    "*  Create a code cell and print a Python Hello World statement: print(\"hello world\")\n",
    "*  Create a Markdown Cell and add a Title using # and then a statement using plain text.\n",
    "*  Finally, download this notebook as a .ipynb file and check into a Github Project"
   ]
  },
  {
   "cell_type": "code",
   "execution_count": null,
   "metadata": {},
   "outputs": [],
   "source": []
  }
 ],
 "metadata": {
  "kernelspec": {
   "display_name": "Python 3",
   "language": "python",
   "name": "python3"
  },
  "language_info": {
   "codemirror_mode": {
    "name": "ipython",
    "version": 3
   },
   "file_extension": ".py",
   "mimetype": "text/x-python",
   "name": "python",
   "nbconvert_exporter": "python",
   "pygments_lexer": "ipython3",
   "version": "3.7.6"
  }
 },
 "nbformat": 4,
 "nbformat_minor": 4
}
